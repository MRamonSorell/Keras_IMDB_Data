{
  "nbformat": 4,
  "nbformat_minor": 0,
  "metadata": {
    "colab": {
      "name": "IMDB_Data_Program1.ipynb",
      "version": "0.3.2",
      "provenance": [],
      "collapsed_sections": []
    },
    "kernelspec": {
      "name": "python3",
      "display_name": "Python 3"
    }
  },
  "cells": [
    {
      "cell_type": "code",
      "metadata": {
        "id": "kicHtcjix0wC",
        "colab_type": "code",
        "colab": {}
      },
      "source": [
        "! pwd\n"
      ],
      "execution_count": 0,
      "outputs": []
    },
    {
      "cell_type": "markdown",
      "metadata": {
        "id": "80WaET7-986x",
        "colab_type": "text"
      },
      "source": [
        ""
      ]
    },
    {
      "cell_type": "markdown",
      "metadata": {
        "id": "UwMAanuGuRO3",
        "colab_type": "text"
      },
      "source": [
        "### This program uses code comes from the Deep Learning with Python book by Francois Chollet  I have copied the code for learning purposes. The code can be found on pages 68-76. \n",
        "\n",
        "### The original code runs a model with 2 hidden layers. I then add an extra hidden layer to see how the additional layer impacts the validation loss and accuracy values. I will be making updates to this file as time goes on.\n",
        "\n",
        "### Created:  July 2019\n",
        "### Last updated: July 2019\n",
        "### M. R. Sorell 2019"
      ]
    },
    {
      "cell_type": "code",
      "metadata": {
        "id": "7l2ZCREix3qm",
        "colab_type": "code",
        "colab": {
          "base_uri": "https://localhost:8080/",
          "height": 34
        },
        "outputId": "80ae0826-34c3-4e4a-b478-ae02163eeefe"
      },
      "source": [
        "from keras.datasets import imdb"
      ],
      "execution_count": 2,
      "outputs": [
        {
          "output_type": "stream",
          "text": [
            "Using TensorFlow backend.\n"
          ],
          "name": "stderr"
        }
      ]
    },
    {
      "cell_type": "code",
      "metadata": {
        "id": "2E8M3gIbzj9s",
        "colab_type": "code",
        "colab": {}
      },
      "source": [
        "import numpy as np"
      ],
      "execution_count": 0,
      "outputs": []
    },
    {
      "cell_type": "code",
      "metadata": {
        "id": "LwP-cPpuzp0M",
        "colab_type": "code",
        "colab": {}
      },
      "source": [
        "# save np.load\n",
        "np_load_old = np.load\n",
        "\n",
        "# modify the default parameters of np.load\n",
        "np.load = lambda *a,**k: np_load_old(*a, allow_pickle=True, **k)\n",
        "\n",
        "# call load_data with allow_pickle implicitly set to true\n",
        "(train_data, train_labels), (test_data, test_labels) = imdb.load_data(num_words=10000)\n",
        "\n",
        "# restore np.load for future normal usage\n",
        "np.load = np_load_old"
      ],
      "execution_count": 0,
      "outputs": []
    },
    {
      "cell_type": "code",
      "metadata": {
        "id": "zdoLhrlOyjNV",
        "colab_type": "code",
        "colab": {}
      },
      "source": [
        "train_data[0]"
      ],
      "execution_count": 0,
      "outputs": []
    },
    {
      "cell_type": "code",
      "metadata": {
        "id": "D-cBJ4Wzz-pk",
        "colab_type": "code",
        "colab": {
          "base_uri": "https://localhost:8080/",
          "height": 34
        },
        "outputId": "7418660c-13a7-4b61-a1aa-74bb5fba6d7b"
      },
      "source": [
        "train_labels[0]"
      ],
      "execution_count": 8,
      "outputs": [
        {
          "output_type": "execute_result",
          "data": {
            "text/plain": [
              "1"
            ]
          },
          "metadata": {
            "tags": []
          },
          "execution_count": 8
        }
      ]
    },
    {
      "cell_type": "code",
      "metadata": {
        "id": "I2r28AV20EgM",
        "colab_type": "code",
        "colab": {
          "base_uri": "https://localhost:8080/",
          "height": 34
        },
        "outputId": "2191fa8a-8449-4767-bc8f-8d6f1abd77d7"
      },
      "source": [
        "max([max(sequence) for sequence in train_data])"
      ],
      "execution_count": 9,
      "outputs": [
        {
          "output_type": "execute_result",
          "data": {
            "text/plain": [
              "9999"
            ]
          },
          "metadata": {
            "tags": []
          },
          "execution_count": 9
        }
      ]
    },
    {
      "cell_type": "code",
      "metadata": {
        "id": "5skEMexR0PuU",
        "colab_type": "code",
        "colab": {}
      },
      "source": [
        "def vectorize_sequences(sequences, dimension = 10000):\n",
        "  results = np.zeros((len(sequences), dimension))\n",
        "  for i, sequence in enumerate(sequences):\n",
        "    results[i, sequence] = 1\n",
        "  return results"
      ],
      "execution_count": 0,
      "outputs": []
    },
    {
      "cell_type": "code",
      "metadata": {
        "id": "7fISHQKB01e0",
        "colab_type": "code",
        "colab": {}
      },
      "source": [
        "x_train = vectorize_sequences(train_data)\n",
        "x_test = vectorize_sequences(test_data)"
      ],
      "execution_count": 0,
      "outputs": []
    },
    {
      "cell_type": "code",
      "metadata": {
        "id": "apY4T4se0-cc",
        "colab_type": "code",
        "colab": {
          "base_uri": "https://localhost:8080/",
          "height": 34
        },
        "outputId": "9b068641-9305-4eec-f179-87a48c7f844e"
      },
      "source": [
        "x_train[0]"
      ],
      "execution_count": 16,
      "outputs": [
        {
          "output_type": "execute_result",
          "data": {
            "text/plain": [
              "array([0., 1., 1., ..., 0., 0., 0.])"
            ]
          },
          "metadata": {
            "tags": []
          },
          "execution_count": 16
        }
      ]
    },
    {
      "cell_type": "code",
      "metadata": {
        "id": "-8kzwrn-1LRD",
        "colab_type": "code",
        "colab": {}
      },
      "source": [
        "y_train = np.asarray(train_labels).astype('float32')\n",
        "y_test = np.asarray(test_labels).astype('float32')"
      ],
      "execution_count": 0,
      "outputs": []
    },
    {
      "cell_type": "code",
      "metadata": {
        "id": "psPhIvkB1ch-",
        "colab_type": "code",
        "colab": {}
      },
      "source": [
        "from keras import models\n",
        "from keras import layers"
      ],
      "execution_count": 0,
      "outputs": []
    },
    {
      "cell_type": "code",
      "metadata": {
        "id": "Rbaguo5k1k4c",
        "colab_type": "code",
        "colab": {}
      },
      "source": [
        "model= models.Sequential()\n",
        "model.add(layers.Dense(16, activation = 'relu', input_shape=(10000,)))\n",
        "model.add(layers.Dense(16, activation = 'relu'))\n",
        "model.add(layers.Dense(1, activation = 'sigmoid'))"
      ],
      "execution_count": 0,
      "outputs": []
    },
    {
      "cell_type": "code",
      "metadata": {
        "id": "jyGoFQpD2MPb",
        "colab_type": "code",
        "colab": {}
      },
      "source": [
        "model.compile(optimizer = 'rmsprop', loss = 'binary_crossentropy', metrics = ['accuracy'])"
      ],
      "execution_count": 0,
      "outputs": []
    },
    {
      "cell_type": "code",
      "metadata": {
        "id": "LeJie90r2Wcr",
        "colab_type": "code",
        "colab": {}
      },
      "source": [
        "x_val = x_train[:10000]\n",
        "partial_x_train = x_train[10000:]"
      ],
      "execution_count": 0,
      "outputs": []
    },
    {
      "cell_type": "code",
      "metadata": {
        "id": "8DtUIwYa2m00",
        "colab_type": "code",
        "colab": {}
      },
      "source": [
        "y_val = y_train[:10000]\n",
        "partial_y_train = y_train[10000:]"
      ],
      "execution_count": 0,
      "outputs": []
    },
    {
      "cell_type": "code",
      "metadata": {
        "id": "ZSKQ-yNo2vK8",
        "colab_type": "code",
        "colab": {
          "base_uri": "https://localhost:8080/",
          "height": 768
        },
        "outputId": "f86de5bc-c4e9-4912-94d7-f26d53447752"
      },
      "source": [
        "history = model.fit(partial_x_train, partial_y_train, epochs= 20, batch_size=512, validation_data=(x_val, y_val))"
      ],
      "execution_count": 26,
      "outputs": [
        {
          "output_type": "stream",
          "text": [
            "W0708 09:14:33.849243 140536505825152 deprecation_wrapper.py:119] From /usr/local/lib/python3.6/dist-packages/keras/backend/tensorflow_backend.py:986: The name tf.assign_add is deprecated. Please use tf.compat.v1.assign_add instead.\n",
            "\n"
          ],
          "name": "stderr"
        },
        {
          "output_type": "stream",
          "text": [
            "Train on 15000 samples, validate on 10000 samples\n",
            "Epoch 1/20\n",
            "15000/15000 [==============================] - 3s 189us/step - loss: 0.5048 - acc: 0.7876 - val_loss: 0.3774 - val_acc: 0.8703\n",
            "Epoch 2/20\n",
            "15000/15000 [==============================] - 2s 127us/step - loss: 0.2992 - acc: 0.9044 - val_loss: 0.3001 - val_acc: 0.8895\n",
            "Epoch 3/20\n",
            "15000/15000 [==============================] - 2s 125us/step - loss: 0.2173 - acc: 0.9284 - val_loss: 0.3080 - val_acc: 0.8718\n",
            "Epoch 4/20\n",
            "15000/15000 [==============================] - 2s 125us/step - loss: 0.1747 - acc: 0.9439 - val_loss: 0.2829 - val_acc: 0.8841\n",
            "Epoch 5/20\n",
            "15000/15000 [==============================] - 2s 126us/step - loss: 0.1421 - acc: 0.9539 - val_loss: 0.2855 - val_acc: 0.8856\n",
            "Epoch 6/20\n",
            "15000/15000 [==============================] - 2s 124us/step - loss: 0.1147 - acc: 0.9651 - val_loss: 0.3139 - val_acc: 0.8779\n",
            "Epoch 7/20\n",
            "15000/15000 [==============================] - 2s 123us/step - loss: 0.0977 - acc: 0.9709 - val_loss: 0.3130 - val_acc: 0.8842\n",
            "Epoch 8/20\n",
            "15000/15000 [==============================] - 2s 123us/step - loss: 0.0805 - acc: 0.9766 - val_loss: 0.3869 - val_acc: 0.8652\n",
            "Epoch 9/20\n",
            "15000/15000 [==============================] - 2s 124us/step - loss: 0.0659 - acc: 0.9820 - val_loss: 0.3640 - val_acc: 0.8778\n",
            "Epoch 10/20\n",
            "15000/15000 [==============================] - 2s 126us/step - loss: 0.0553 - acc: 0.9854 - val_loss: 0.3875 - val_acc: 0.8777\n",
            "Epoch 11/20\n",
            "15000/15000 [==============================] - 2s 125us/step - loss: 0.0428 - acc: 0.9903 - val_loss: 0.4173 - val_acc: 0.8778\n",
            "Epoch 12/20\n",
            "15000/15000 [==============================] - 2s 124us/step - loss: 0.0379 - acc: 0.9917 - val_loss: 0.4568 - val_acc: 0.8692\n",
            "Epoch 13/20\n",
            "15000/15000 [==============================] - 2s 125us/step - loss: 0.0297 - acc: 0.9937 - val_loss: 0.4742 - val_acc: 0.8727\n",
            "Epoch 14/20\n",
            "15000/15000 [==============================] - 2s 124us/step - loss: 0.0236 - acc: 0.9951 - val_loss: 0.5068 - val_acc: 0.8721\n",
            "Epoch 15/20\n",
            "15000/15000 [==============================] - 2s 125us/step - loss: 0.0179 - acc: 0.9976 - val_loss: 0.5358 - val_acc: 0.8696\n",
            "Epoch 16/20\n",
            "15000/15000 [==============================] - 2s 125us/step - loss: 0.0152 - acc: 0.9981 - val_loss: 0.5788 - val_acc: 0.8690\n",
            "Epoch 17/20\n",
            "15000/15000 [==============================] - 2s 124us/step - loss: 0.0133 - acc: 0.9981 - val_loss: 0.6058 - val_acc: 0.8681\n",
            "Epoch 18/20\n",
            "15000/15000 [==============================] - 2s 125us/step - loss: 0.0086 - acc: 0.9994 - val_loss: 0.6362 - val_acc: 0.8684\n",
            "Epoch 19/20\n",
            "15000/15000 [==============================] - 2s 124us/step - loss: 0.0091 - acc: 0.9984 - val_loss: 0.6681 - val_acc: 0.8663\n",
            "Epoch 20/20\n",
            "15000/15000 [==============================] - 2s 124us/step - loss: 0.0045 - acc: 0.9998 - val_loss: 0.7106 - val_acc: 0.8643\n"
          ],
          "name": "stdout"
        }
      ]
    },
    {
      "cell_type": "code",
      "metadata": {
        "id": "o08OUqLy3NVO",
        "colab_type": "code",
        "colab": {
          "base_uri": "https://localhost:8080/",
          "height": 34
        },
        "outputId": "725c5793-bf09-4da6-e0ce-d585ae1a9ef5"
      },
      "source": [
        "history_dict = history.history\n",
        "history_dict.keys()"
      ],
      "execution_count": 27,
      "outputs": [
        {
          "output_type": "execute_result",
          "data": {
            "text/plain": [
              "dict_keys(['val_loss', 'val_acc', 'loss', 'acc'])"
            ]
          },
          "metadata": {
            "tags": []
          },
          "execution_count": 27
        }
      ]
    },
    {
      "cell_type": "code",
      "metadata": {
        "id": "4R6FWiKd3pSE",
        "colab_type": "code",
        "colab": {}
      },
      "source": [
        "import matplotlib.pyplot as plt\n",
        "%matplotlib inline"
      ],
      "execution_count": 0,
      "outputs": []
    },
    {
      "cell_type": "code",
      "metadata": {
        "id": "uDwbJctJ3xs7",
        "colab_type": "code",
        "colab": {
          "base_uri": "https://localhost:8080/",
          "height": 295
        },
        "outputId": "f32b1a37-eecf-4fda-c5e3-19f430b4e854"
      },
      "source": [
        "loss_values = history_dict['loss']\n",
        "val_loss_values = history_dict['val_loss']\n",
        "acc = history_dict['acc']\n",
        "\n",
        "epochs = range(1, len(acc) + 1)\n",
        "\n",
        "plt.plot(epochs, loss_values, 'bo',label = 'Training loss' )\n",
        "plt.plot(epochs, val_loss_values, 'b', label = 'Validation loss')\n",
        "plt.title('IMDB Data : Training and Validation loss')\n",
        "plt.xlabel('Epochs')\n",
        "plt.ylabel('Loss')\n",
        "plt.legend()\n",
        "\n",
        "plt.show()"
      ],
      "execution_count": 31,
      "outputs": [
        {
          "output_type": "display_data",
          "data": {
            "image/png": "[encoded data removed]",
            "text/plain": [
              "<Figure size 432x288 with 1 Axes>"
            ]
          },
          "metadata": {
            "tags": []
          }
        }
      ]
    },
    {
      "cell_type": "code",
      "metadata": {
        "id": "MyMl6CjA4vV3",
        "colab_type": "code",
        "colab": {
          "base_uri": "https://localhost:8080/",
          "height": 295
        },
        "outputId": "ff0ab2b5-e3e5-40d3-edd1-3ff356b9a5f1"
      },
      "source": [
        "plt.clf()\n",
        "\n",
        "acc_values = history_dict['acc']\n",
        "val_acc_values = history_dict['val_acc']\n",
        "\n",
        "plt.plot(epochs, acc_values, 'bo', label= 'Training Acc')\n",
        "plt.plot(epochs, val_acc_values , 'b', label = 'Validation Acc')\n",
        "plt.title('IMDB data : Training and Validation accuracy')\n",
        "plt.xlabel('Epochs')\n",
        "plt.ylabel('Loss')\n",
        "plt.legend()\n",
        "\n",
        "plt.show()"
      ],
      "execution_count": 32,
      "outputs": [
        {
          "output_type": "display_data",
          "data": {
            "image/png": "[encoded data removed]",
            "text/plain": [
              "<Figure size 432x288 with 1 Axes>"
            ]
          },
          "metadata": {
            "tags": []
          }
        }
      ]
    },
    {
      "cell_type": "code",
      "metadata": {
        "id": "xQ6WEXt86LUk",
        "colab_type": "code",
        "colab": {}
      },
      "source": [
        "model_2= models.Sequential()\n",
        "model_2.add(layers.Dense(16, activation = 'relu', input_shape=(10000,)))\n",
        "model_2.add(layers.Dense(16, activation = 'relu'))\n",
        "model_2.add(layers.Dense(1, activation = 'sigmoid'))"
      ],
      "execution_count": 0,
      "outputs": []
    },
    {
      "cell_type": "code",
      "metadata": {
        "id": "78cTkZar6msD",
        "colab_type": "code",
        "colab": {}
      },
      "source": [
        "model_2.compile(optimizer = 'rmsprop', loss = 'binary_crossentropy', metrics = ['accuracy'])"
      ],
      "execution_count": 0,
      "outputs": []
    },
    {
      "cell_type": "code",
      "metadata": {
        "id": "hp4BGFIE6oTr",
        "colab_type": "code",
        "colab": {
          "base_uri": "https://localhost:8080/",
          "height": 187
        },
        "outputId": "0caec1f6-5a18-4aee-d7df-9c0923dc0a27"
      },
      "source": [
        "model_2.fit(x_train,y_train, epochs= 4, batch_size=512)\n",
        "results = model_2.evaluate(x_test,y_test)\n",
        "results\n"
      ],
      "execution_count": 36,
      "outputs": [
        {
          "output_type": "stream",
          "text": [
            "Epoch 1/4\n",
            "25000/25000 [==============================] - 3s 108us/step - loss: 0.2298 - acc: 0.9206\n",
            "Epoch 2/4\n",
            "25000/25000 [==============================] - 2s 95us/step - loss: 0.1859 - acc: 0.9336\n",
            "Epoch 3/4\n",
            "25000/25000 [==============================] - 2s 90us/step - loss: 0.1570 - acc: 0.9444\n",
            "Epoch 4/4\n",
            "25000/25000 [==============================] - 2s 90us/step - loss: 0.1358 - acc: 0.9518\n",
            "25000/25000 [==============================] - 2s 82us/step\n"
          ],
          "name": "stdout"
        },
        {
          "output_type": "execute_result",
          "data": {
            "text/plain": [
              "[0.3167300694131851, 0.87888]"
            ]
          },
          "metadata": {
            "tags": []
          },
          "execution_count": 36
        }
      ]
    },
    {
      "cell_type": "code",
      "metadata": {
        "id": "INWSw3MX6_97",
        "colab_type": "code",
        "colab": {
          "base_uri": "https://localhost:8080/",
          "height": 136
        },
        "outputId": "cfa2db17-7509-44ce-8159-eb46afb4610a"
      },
      "source": [
        "model_2.predict(x_test)"
      ],
      "execution_count": 37,
      "outputs": [
        {
          "output_type": "execute_result",
          "data": {
            "text/plain": [
              "array([[0.17873666],\n",
              "       [0.9999763 ],\n",
              "       [0.41021216],\n",
              "       ...,\n",
              "       [0.08709684],\n",
              "       [0.04158837],\n",
              "       [0.6692719 ]], dtype=float32)"
            ]
          },
          "metadata": {
            "tags": []
          },
          "execution_count": 37
        }
      ]
    },
    {
      "cell_type": "markdown",
      "metadata": {
        "id": "HqJbGIzz8FRL",
        "colab_type": "text"
      },
      "source": [
        "// This runs the same model but with 3 hidden layers "
      ]
    },
    {
      "cell_type": "code",
      "metadata": {
        "id": "VeviFc5a7RjA",
        "colab_type": "code",
        "colab": {}
      },
      "source": [
        "model_3= models.Sequential()\n",
        "model_3.add(layers.Dense(16, activation = 'relu', input_shape=(10000,)))\n",
        "model_3.add(layers.Dense(16, activation = 'relu'))\n",
        "model_3.add(layers.Dense(16, activation = 'relu'))\n",
        "model_3.add(layers.Dense(1, activation = 'sigmoid'))"
      ],
      "execution_count": 0,
      "outputs": []
    },
    {
      "cell_type": "code",
      "metadata": {
        "id": "3p3ewbLa7uVK",
        "colab_type": "code",
        "colab": {}
      },
      "source": [
        "model_3.compile(optimizer = 'rmsprop', loss = 'binary_crossentropy', metrics = ['accuracy'])"
      ],
      "execution_count": 0,
      "outputs": []
    },
    {
      "cell_type": "code",
      "metadata": {
        "id": "gBrgsk6e7zdq",
        "colab_type": "code",
        "colab": {
          "base_uri": "https://localhost:8080/",
          "height": 714
        },
        "outputId": "f66b21b8-7812-47db-9ada-46ca1714790d"
      },
      "source": [
        "history_3 = model_3.fit(partial_x_train, partial_y_train, epochs= 20, batch_size=512, validation_data=(x_val, y_val))"
      ],
      "execution_count": 40,
      "outputs": [
        {
          "output_type": "stream",
          "text": [
            "Train on 15000 samples, validate on 10000 samples\n",
            "Epoch 1/20\n",
            "15000/15000 [==============================] - 2s 160us/step - loss: 0.5167 - acc: 0.7741 - val_loss: 0.3838 - val_acc: 0.8667\n",
            "Epoch 2/20\n",
            "15000/15000 [==============================] - 2s 131us/step - loss: 0.2985 - acc: 0.9005 - val_loss: 0.2971 - val_acc: 0.8854\n",
            "Epoch 3/20\n",
            "15000/15000 [==============================] - 2s 127us/step - loss: 0.2142 - acc: 0.9263 - val_loss: 0.2789 - val_acc: 0.8883\n",
            "Epoch 4/20\n",
            "15000/15000 [==============================] - 2s 126us/step - loss: 0.1622 - acc: 0.9476 - val_loss: 0.3046 - val_acc: 0.8781\n",
            "Epoch 5/20\n",
            "15000/15000 [==============================] - 2s 126us/step - loss: 0.1251 - acc: 0.9606 - val_loss: 0.2943 - val_acc: 0.8865\n",
            "Epoch 6/20\n",
            "15000/15000 [==============================] - 2s 126us/step - loss: 0.1007 - acc: 0.9679 - val_loss: 0.3724 - val_acc: 0.8649\n",
            "Epoch 7/20\n",
            "15000/15000 [==============================] - 2s 128us/step - loss: 0.0813 - acc: 0.9763 - val_loss: 0.3376 - val_acc: 0.8815\n",
            "Epoch 8/20\n",
            "15000/15000 [==============================] - 2s 125us/step - loss: 0.0598 - acc: 0.9843 - val_loss: 0.4337 - val_acc: 0.8652\n",
            "Epoch 9/20\n",
            "15000/15000 [==============================] - 2s 127us/step - loss: 0.0478 - acc: 0.9878 - val_loss: 0.4016 - val_acc: 0.8774\n",
            "Epoch 10/20\n",
            "15000/15000 [==============================] - 2s 126us/step - loss: 0.0370 - acc: 0.9905 - val_loss: 0.4351 - val_acc: 0.8762\n",
            "Epoch 11/20\n",
            "15000/15000 [==============================] - 2s 126us/step - loss: 0.0256 - acc: 0.9947 - val_loss: 0.4854 - val_acc: 0.8721\n",
            "Epoch 12/20\n",
            "15000/15000 [==============================] - 2s 126us/step - loss: 0.0202 - acc: 0.9949 - val_loss: 0.5210 - val_acc: 0.8709\n",
            "Epoch 13/20\n",
            "15000/15000 [==============================] - 2s 128us/step - loss: 0.0182 - acc: 0.9954 - val_loss: 0.5431 - val_acc: 0.8722\n",
            "Epoch 14/20\n",
            "15000/15000 [==============================] - 2s 126us/step - loss: 0.0062 - acc: 0.9997 - val_loss: 0.5878 - val_acc: 0.8696\n",
            "Epoch 15/20\n",
            "15000/15000 [==============================] - 2s 128us/step - loss: 0.0160 - acc: 0.9957 - val_loss: 0.6134 - val_acc: 0.8713\n",
            "Epoch 16/20\n",
            "15000/15000 [==============================] - 2s 128us/step - loss: 0.0029 - acc: 0.9999 - val_loss: 0.6520 - val_acc: 0.8689\n",
            "Epoch 17/20\n",
            "15000/15000 [==============================] - 2s 129us/step - loss: 0.0145 - acc: 0.9960 - val_loss: 0.6784 - val_acc: 0.8685\n",
            "Epoch 18/20\n",
            "15000/15000 [==============================] - 2s 130us/step - loss: 0.0015 - acc: 0.9999 - val_loss: 0.7082 - val_acc: 0.8680\n",
            "Epoch 19/20\n",
            "15000/15000 [==============================] - 2s 130us/step - loss: 0.0011 - acc: 0.9999 - val_loss: 0.7491 - val_acc: 0.8670\n",
            "Epoch 20/20\n",
            "15000/15000 [==============================] - 2s 129us/step - loss: 0.0105 - acc: 0.9961 - val_loss: 0.7787 - val_acc: 0.8653\n"
          ],
          "name": "stdout"
        }
      ]
    },
    {
      "cell_type": "code",
      "metadata": {
        "id": "x-TGdqjj741q",
        "colab_type": "code",
        "colab": {
          "base_uri": "https://localhost:8080/",
          "height": 34
        },
        "outputId": "ab71c004-fa2e-47b3-91e4-7a4b3a943a7c"
      },
      "source": [
        "history_3_dict = history_3.history\n",
        "history_3_dict.keys()"
      ],
      "execution_count": 42,
      "outputs": [
        {
          "output_type": "execute_result",
          "data": {
            "text/plain": [
              "dict_keys(['val_loss', 'val_acc', 'loss', 'acc'])"
            ]
          },
          "metadata": {
            "tags": []
          },
          "execution_count": 42
        }
      ]
    },
    {
      "cell_type": "code",
      "metadata": {
        "id": "BqzeD7U-8Z7K",
        "colab_type": "code",
        "colab": {
          "base_uri": "https://localhost:8080/",
          "height": 295
        },
        "outputId": "4c86daa2-8e0a-4fbe-e725-38fcd5a2ce4d"
      },
      "source": [
        "plt.clf()\n",
        "\n",
        "loss_values3 = history_3_dict['loss']\n",
        "val_loss_values3 = history_3_dict['val_loss']\n",
        "acc3 = history_3_dict['acc']\n",
        "\n",
        "epochs3 = range(1, len(acc3) + 1)\n",
        "\n",
        "plt.plot(epochs3, loss_values3, 'bo',label = 'Training loss' )\n",
        "plt.plot(epochs3, val_loss_values3, 'b', label = 'Validation loss')\n",
        "plt.title('IMDB Data : Training and Validation loss')\n",
        "plt.xlabel('Epochs')\n",
        "plt.ylabel('Loss')\n",
        "plt.legend()\n",
        "\n",
        "plt.show()"
      ],
      "execution_count": 43,
      "outputs": [
        {
          "output_type": "display_data",
          "data": {
            "image/png": "[encoded data removed]",
            "text/plain": [
              "<Figure size 432x288 with 1 Axes>"
            ]
          },
          "metadata": {
            "tags": []
          }
        }
      ]
    },
    {
      "cell_type": "code",
      "metadata": {
        "id": "8shzQZtJ8xH6",
        "colab_type": "code",
        "colab": {
          "base_uri": "https://localhost:8080/",
          "height": 295
        },
        "outputId": "ae4ac2ad-007b-4d6f-8521-a0b379d9c7b7"
      },
      "source": [
        "plt.clf()\n",
        "\n",
        "acc_values3 = history_3_dict['acc']\n",
        "val_acc_values3 = history_3_dict['val_acc']\n",
        "\n",
        "plt.plot(epochs3, acc_values3, 'bo', label= 'Training Acc')\n",
        "plt.plot(epochs3, val_acc_values3 , 'b', label = 'Validation Acc')\n",
        "plt.title('IMDB data : Training and Validation accuracy')\n",
        "plt.xlabel('Epochs')\n",
        "plt.ylabel('Loss')\n",
        "plt.legend()\n",
        "\n",
        "plt.show()"
      ],
      "execution_count": 44,
      "outputs": [
        {
          "output_type": "display_data",
          "data": {
            "image/png": "[encoded data removed]",
            "text/plain": [
              "<Figure size 432x288 with 1 Axes>"
            ]
          },
          "metadata": {
            "tags": []
          }
        }
      ]
    },
    {
      "cell_type": "code",
      "metadata": {
        "id": "TUHKYhHv9Cfj",
        "colab_type": "code",
        "colab": {}
      },
      "source": [
        ""
      ],
      "execution_count": 0,
      "outputs": []
    },
    {
      "cell_type": "markdown",
      "metadata": {
        "id": "J3wpxHC59KJS",
        "colab_type": "text"
      },
      "source": [
        "// Shows that with 3 hidden layers we should only use 3 Epochs"
      ]
    },
    {
      "cell_type": "code",
      "metadata": {
        "id": "OwXMxrCp9QQi",
        "colab_type": "code",
        "colab": {}
      },
      "source": [
        ""
      ],
      "execution_count": 0,
      "outputs": []
    }
  ]
}